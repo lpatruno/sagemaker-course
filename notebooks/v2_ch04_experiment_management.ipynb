{
 "cells": [
  {
   "cell_type": "markdown",
   "metadata": {},
   "source": [
    "# Chapter 04. Experiment Management\n",
    "---"
   ]
  },
  {
   "cell_type": "markdown",
   "metadata": {},
   "source": [
    "## 4.1 Experiments, Trials, and Components\n",
    "---"
   ]
  },
  {
   "cell_type": "code",
   "execution_count": 1,
   "metadata": {},
   "outputs": [
    {
     "name": "stdout",
     "output_type": "stream",
     "text": [
      "/root/sagemaker-course/notebooks\n"
     ]
    }
   ],
   "source": [
    "# Change into the notebooks directory.\n",
    "#%cd /root/sagemaker-course/notebooks/"
   ]
  },
  {
   "cell_type": "code",
   "execution_count": 31,
   "metadata": {},
   "outputs": [
    {
     "name": "stdout",
     "output_type": "stream",
     "text": [
      "Artifacts will be written to s3://sagemaker-course-20200517/mnist\n"
     ]
    }
   ],
   "source": [
    "import datetime\n",
    "\n",
    "import boto3\n",
    "import pandas as pd\n",
    "import sagemaker\n",
    "from sagemaker import get_execution_role\n",
    "\n",
    "# S3 bucket information\n",
    "BUCKET = 'sagemaker-course-20200517'\n",
    "PREFIX = 'mnist'\n",
    "LOCAL_DATA_DIRECTORY = f'../data/{PREFIX}'\n",
    "print(f\"Artifacts will be written to s3://{BUCKET}/{PREFIX}\")\n",
    "\n",
    "# Session variables we'll use throughout the notebook\n",
    "sagemaker_session = sagemaker.Session()\n",
    "boto_session = sagemaker_session.boto_session\n",
    "sagemaker_client = boto_session.client('sagemaker')\n",
    "role = get_execution_role()"
   ]
  },
  {
   "cell_type": "code",
   "execution_count": 4,
   "metadata": {},
   "outputs": [
    {
     "data": {
      "text/plain": [
       "\u001b[0;31mInit signature:\u001b[0m \u001b[0mExperiment\u001b[0m\u001b[0;34m(\u001b[0m\u001b[0msagemaker_boto_client\u001b[0m\u001b[0;34m,\u001b[0m \u001b[0;34m**\u001b[0m\u001b[0mkwargs\u001b[0m\u001b[0;34m)\u001b[0m\u001b[0;34m\u001b[0m\u001b[0;34m\u001b[0m\u001b[0m\n",
       "\u001b[0;31mDocstring:\u001b[0m     \n",
       "An Amazon SageMaker experiment, which is a collection of related trials.\n",
       "\n",
       "New experiments are created by calling :meth:`~smexperiments.experiment.Experiment.create`. Existing\n",
       "experiments can be reloaded by calling :meth:`~smexperiments.experiment.Experiment.load`. You can\n",
       "add a new trial to an Experiment by calling :meth:`~smexperiments.experiment.Experiment.create_trial`.\n",
       "To remove a Trial from an experiment, delete the trial.\n",
       "\n",
       "Examples:\n",
       "    .. code-block:: python\n",
       "\n",
       "        from smexperiments import experiment\n",
       "\n",
       "        my_experiment = experiment.Experiment.create(experiment_name='AutoML')\n",
       "        my_trial = my_experiment.create_trial(trial_name='random-forest')\n",
       "\n",
       "        for exp in experiment.Experiment.list():\n",
       "            print(exp)\n",
       "        for trial in my_experiment.list_trials():\n",
       "            print(trial)\n",
       "\n",
       "        my_trial.delete()\n",
       "        my_experiment.delete()\n",
       "\n",
       "Attributes:\n",
       "    experiment_name (str): The name of the experiment. The name must be unique within an account.\n",
       "    description (str): A description of the experiment.\n",
       "\u001b[0;31mFile:\u001b[0m           /opt/conda/lib/python3.7/site-packages/smexperiments/experiment.py\n",
       "\u001b[0;31mType:\u001b[0m           type\n",
       "\u001b[0;31mSubclasses:\u001b[0m     \n"
      ]
     },
     "metadata": {},
     "output_type": "display_data"
    }
   ],
   "source": [
    "from smexperiments.experiment import Experiment\n",
    "\n",
    "#Experiment?"
   ]
  },
  {
   "cell_type": "code",
   "execution_count": 5,
   "metadata": {},
   "outputs": [
    {
     "data": {
      "text/plain": [
       "\u001b[0;31mInit signature:\u001b[0m \u001b[0mTrial\u001b[0m\u001b[0;34m(\u001b[0m\u001b[0msagemaker_boto_client\u001b[0m\u001b[0;34m,\u001b[0m \u001b[0;34m**\u001b[0m\u001b[0mkwargs\u001b[0m\u001b[0;34m)\u001b[0m\u001b[0;34m\u001b[0m\u001b[0;34m\u001b[0m\u001b[0m\n",
       "\u001b[0;31mDocstring:\u001b[0m     \n",
       "An execution of a data-science workflow with an experiment.\n",
       "\n",
       "Consists of a list of trial component objects, which document individual activities within the workflow.\n",
       "\n",
       "Examples:\n",
       "    .. code-block:: python\n",
       "\n",
       "        from smexperiments import trial, experiment, tracker\n",
       "\n",
       "        my_experiment = experiment.Experiment.create(experiment_name='AutoML')\n",
       "        my_trial = trial.Trial.create('AutoML')\n",
       "\n",
       "        my_tracker = tracker.Tracker.create()\n",
       "        # log hyper parameter of learning rate\n",
       "        my_tracker.log_parameter('learning_rate', 0.01)\n",
       "        my_trial.add_trial_component(my_tracker)\n",
       "\n",
       "        for trial_component in my_trial.list_trial_components():\n",
       "            print(trial_component)\n",
       "\n",
       "        my_trial.remove_trial_component(my_tracker)\n",
       "        my_trial.delete()\n",
       "\n",
       "Attributes:\n",
       "    trial_name (str): The name of the trial.\n",
       "    experiment_name (str): The name of the trial's experiment.\n",
       "\u001b[0;31mFile:\u001b[0m           /opt/conda/lib/python3.7/site-packages/smexperiments/trial.py\n",
       "\u001b[0;31mType:\u001b[0m           type\n",
       "\u001b[0;31mSubclasses:\u001b[0m     \n"
      ]
     },
     "metadata": {},
     "output_type": "display_data"
    }
   ],
   "source": [
    "from smexperiments.trial import Trial\n",
    "\n",
    "#Trial?"
   ]
  },
  {
   "cell_type": "code",
   "execution_count": 6,
   "metadata": {},
   "outputs": [
    {
     "data": {
      "text/plain": [
       "\u001b[0;31mInit signature:\u001b[0m \u001b[0mTrialComponent\u001b[0m\u001b[0;34m(\u001b[0m\u001b[0msagemaker_boto_client\u001b[0m\u001b[0;34m,\u001b[0m \u001b[0;34m**\u001b[0m\u001b[0mkwargs\u001b[0m\u001b[0;34m)\u001b[0m\u001b[0;34m\u001b[0m\u001b[0;34m\u001b[0m\u001b[0m\n",
       "\u001b[0;31mDocstring:\u001b[0m     \n",
       "This class represents a SageMaker trial component object.\n",
       "\n",
       "A trial component is a stage in a trial.\n",
       "\n",
       "Trial components are created automatically within the SageMaker runtime and may not be created directly.\n",
       "To automatically associate trial components with a trial and experiment supply an experiment config when creating a\n",
       "job. For example: https://docs.aws.amazon.com/sagemaker/latest/dg/API_CreateTrainingJob.html\n",
       "\n",
       "Attributes:\n",
       "    trial_component_name (str): The name of the trial component. Generated by SageMaker from the name of the\n",
       "        source job with a suffix specific to the type of source job.\n",
       "    trial_component_arn (str): The ARN of the trial component.\n",
       "    display_name (str): The name of the trial component that will appear in UI, such as SageMaker Studio.\n",
       "    source (obj): A TrialComponentSource object with a source_arn attribute.\n",
       "    status (str): Status of the source job.\n",
       "    start_time (datetime): When the source job started.\n",
       "    end_time (datetime): When the source job ended.\n",
       "    creation_time (datetime): When the source job was created.\n",
       "    created_by (obj): Contextual info on which account created the trial component.\n",
       "    last_modified_time (datetime): When the trial component was last modified.\n",
       "    last_modified_by (obj): Contextual info on which account last modified the trial component.\n",
       "    parameters (dict): Dictionary of parameters to the source job.\n",
       "    input_artiacts (dict): Dictionary of input artifacts.\n",
       "    output_artiacts (dict): Dictionary of output artifacts.\n",
       "    metrics (obj): Aggregated metrics for the job.\n",
       "\u001b[0;31mFile:\u001b[0m           /opt/conda/lib/python3.7/site-packages/smexperiments/trial_component.py\n",
       "\u001b[0;31mType:\u001b[0m           type\n",
       "\u001b[0;31mSubclasses:\u001b[0m     \n"
      ]
     },
     "metadata": {},
     "output_type": "display_data"
    }
   ],
   "source": [
    "from smexperiments.trial_component import TrialComponent\n",
    "\n",
    "#TrialComponent?"
   ]
  },
  {
   "cell_type": "markdown",
   "metadata": {},
   "source": [
    "### 4.1.2 Use Case: Training a Tensorflow Model on MNIST\n",
    "---"
   ]
  },
  {
   "cell_type": "code",
   "execution_count": 16,
   "metadata": {},
   "outputs": [
    {
     "data": {
      "text/plain": [
       "'s3://sagemaker-sample-data-us-east-2/tensorflow/mnist'"
      ]
     },
     "execution_count": 16,
     "metadata": {},
     "output_type": "execute_result"
    }
   ],
   "source": [
    "training_data_bucket = f'sagemaker-sample-data-{boto_session.region_name}'\n",
    "training_data_prefix = 'tensorflow/mnist'\n",
    "\n",
    "training_data_uri = f's3://{training_data_bucket}/{training_data_prefix}'\n",
    "training_data_uri"
   ]
  },
  {
   "cell_type": "code",
   "execution_count": 17,
   "metadata": {},
   "outputs": [
    {
     "data": {
      "text/plain": [
       "{'ResponseMetadata': {'RequestId': '577D30F649208E0F',\n",
       "  'HostId': 'O/qhe406McQGdazjFVCvBLipFgx+dJOWVS4di93+nNI6CsMbsSCY8H24OloezRcTFSqlm1vcOyI=',\n",
       "  'HTTPStatusCode': 200,\n",
       "  'HTTPHeaders': {'x-amz-id-2': 'O/qhe406McQGdazjFVCvBLipFgx+dJOWVS4di93+nNI6CsMbsSCY8H24OloezRcTFSqlm1vcOyI=',\n",
       "   'x-amz-request-id': '577D30F649208E0F',\n",
       "   'date': 'Mon, 18 May 2020 13:27:22 GMT',\n",
       "   'x-amz-bucket-region': 'us-east-2',\n",
       "   'content-type': 'application/xml',\n",
       "   'transfer-encoding': 'chunked',\n",
       "   'server': 'AmazonS3'},\n",
       "  'RetryAttempts': 0},\n",
       " 'IsTruncated': False,\n",
       " 'Marker': '',\n",
       " 'Contents': [{'Key': 'tensorflow/mnist/',\n",
       "   'LastModified': datetime.datetime(2018, 11, 13, 18, 49, 37, tzinfo=tzlocal()),\n",
       "   'ETag': '\"d41d8cd98f00b204e9800998ecf8427e\"',\n",
       "   'Size': 0,\n",
       "   'StorageClass': 'STANDARD'},\n",
       "  {'Key': 'tensorflow/mnist/eval_data.npy',\n",
       "   'LastModified': datetime.datetime(2019, 1, 24, 23, 37, 44, tzinfo=tzlocal()),\n",
       "   'ETag': '\"999d245abdf1f6f45d8b516ef04367e0-4\"',\n",
       "   'Size': 31360128,\n",
       "   'StorageClass': 'STANDARD'},\n",
       "  {'Key': 'tensorflow/mnist/eval_labels.npy',\n",
       "   'LastModified': datetime.datetime(2019, 1, 24, 23, 37, 32, tzinfo=tzlocal()),\n",
       "   'ETag': '\"bf645d8a74fbd6d63977d0709bcb99c9\"',\n",
       "   'Size': 40128,\n",
       "   'StorageClass': 'STANDARD'},\n",
       "  {'Key': 'tensorflow/mnist/train_data.npy',\n",
       "   'LastModified': datetime.datetime(2019, 1, 24, 23, 37, 32, tzinfo=tzlocal()),\n",
       "   'ETag': '\"925e1a8eacf54863188a1022716a2867-21\"',\n",
       "   'Size': 172480128,\n",
       "   'StorageClass': 'STANDARD'},\n",
       "  {'Key': 'tensorflow/mnist/train_labels.npy',\n",
       "   'LastModified': datetime.datetime(2019, 1, 24, 23, 37, 32, tzinfo=tzlocal()),\n",
       "   'ETag': '\"a1936dfdf970ddcb7d3e70c136a9047d\"',\n",
       "   'Size': 220128,\n",
       "   'StorageClass': 'STANDARD'}],\n",
       " 'Name': 'sagemaker-sample-data-us-east-2',\n",
       " 'Prefix': 'tensorflow/mnist',\n",
       " 'MaxKeys': 1000,\n",
       " 'EncodingType': 'url'}"
      ]
     },
     "execution_count": 17,
     "metadata": {},
     "output_type": "execute_result"
    }
   ],
   "source": [
    "boto_session.client('s3').list_objects(\n",
    "    Bucket=training_data_bucket,\n",
    "    Prefix=training_data_prefix)"
   ]
  },
  {
   "cell_type": "markdown",
   "metadata": {},
   "source": [
    "This tutorial's training script was adapted from TensorFlow's official [CNN MNIST example](https://github.com/tensorflow/tensorflow/blob/master/tensorflow/examples/tutorials/layers/cnn_mnist.py)."
   ]
  },
  {
   "cell_type": "code",
   "execution_count": 19,
   "metadata": {},
   "outputs": [
    {
     "name": "stdout",
     "output_type": "stream",
     "text": [
      "\u001b[37m# Copyright 2019 Amazon.com, Inc. or its affiliates. All Rights Reserved.\u001b[39;49;00m\n",
      "\u001b[37m#\u001b[39;49;00m\n",
      "\u001b[37m# Licensed under the Apache License, Version 2.0 (the \"License\"). You\u001b[39;49;00m\n",
      "\u001b[37m# may not use this file except in compliance with the License. A copy of\u001b[39;49;00m\n",
      "\u001b[37m# the License is located at\u001b[39;49;00m\n",
      "\u001b[37m#\u001b[39;49;00m\n",
      "\u001b[37m#     http://aws.amazon.com/apache2.0/\u001b[39;49;00m\n",
      "\u001b[37m#\u001b[39;49;00m\n",
      "\u001b[37m# or in the \"license\" file accompanying this file. This file is\u001b[39;49;00m\n",
      "\u001b[37m# distributed on an \"AS IS\" BASIS, WITHOUT WARRANTIES OR CONDITIONS OF\u001b[39;49;00m\n",
      "\u001b[37m# ANY KIND, either express or implied. See the License for the specific\u001b[39;49;00m\n",
      "\u001b[37m# language governing permissions and limitations under the License.import tensorflow as tf\u001b[39;49;00m\n",
      "\n",
      "\u001b[34mimport\u001b[39;49;00m \u001b[04m\u001b[36mtensorflow\u001b[39;49;00m \u001b[34mas\u001b[39;49;00m \u001b[04m\u001b[36mtf\u001b[39;49;00m\n",
      "\u001b[34mimport\u001b[39;49;00m \u001b[04m\u001b[36margparse\u001b[39;49;00m\n",
      "\u001b[34mimport\u001b[39;49;00m \u001b[04m\u001b[36mos\u001b[39;49;00m\n",
      "\u001b[34mimport\u001b[39;49;00m \u001b[04m\u001b[36mnumpy\u001b[39;49;00m \u001b[34mas\u001b[39;49;00m \u001b[04m\u001b[36mnp\u001b[39;49;00m\n",
      "\u001b[34mimport\u001b[39;49;00m \u001b[04m\u001b[36mjson\u001b[39;49;00m\n",
      "\n",
      "\n",
      "\u001b[34mdef\u001b[39;49;00m \u001b[32mmodel\u001b[39;49;00m(x_train, y_train, x_test, y_test):\n",
      "    \u001b[33m\"\"\"Generate a simple model\"\"\"\u001b[39;49;00m\n",
      "    model = tf.keras.models.Sequential([\n",
      "        tf.keras.layers.Flatten(),\n",
      "        tf.keras.layers.Dense(\u001b[34m1024\u001b[39;49;00m, activation=tf.nn.relu),\n",
      "        tf.keras.layers.Dropout(\u001b[34m0.4\u001b[39;49;00m),\n",
      "        tf.keras.layers.Dense(\u001b[34m10\u001b[39;49;00m, activation=tf.nn.softmax)\n",
      "    ])\n",
      "\n",
      "    model.compile(optimizer=\u001b[33m'\u001b[39;49;00m\u001b[33madam\u001b[39;49;00m\u001b[33m'\u001b[39;49;00m,\n",
      "                  loss=\u001b[33m'\u001b[39;49;00m\u001b[33msparse_categorical_crossentropy\u001b[39;49;00m\u001b[33m'\u001b[39;49;00m,\n",
      "                  metrics=[\u001b[33m'\u001b[39;49;00m\u001b[33maccuracy\u001b[39;49;00m\u001b[33m'\u001b[39;49;00m])\n",
      "    model.fit(x_train, y_train)\n",
      "    model.evaluate(x_test, y_test)\n",
      "\n",
      "    \u001b[34mreturn\u001b[39;49;00m model\n",
      "\n",
      "\n",
      "\u001b[34mdef\u001b[39;49;00m \u001b[32m_load_training_data\u001b[39;49;00m(base_dir):\n",
      "    \u001b[33m\"\"\"Load MNIST training data\"\"\"\u001b[39;49;00m\n",
      "    x_train = np.load(os.path.join(base_dir, \u001b[33m'\u001b[39;49;00m\u001b[33mtrain_data.npy\u001b[39;49;00m\u001b[33m'\u001b[39;49;00m))\n",
      "    y_train = np.load(os.path.join(base_dir, \u001b[33m'\u001b[39;49;00m\u001b[33mtrain_labels.npy\u001b[39;49;00m\u001b[33m'\u001b[39;49;00m))\n",
      "    \u001b[34mreturn\u001b[39;49;00m x_train, y_train\n",
      "\n",
      "\n",
      "\u001b[34mdef\u001b[39;49;00m \u001b[32m_load_testing_data\u001b[39;49;00m(base_dir):\n",
      "    \u001b[33m\"\"\"Load MNIST testing data\"\"\"\u001b[39;49;00m\n",
      "    x_test = np.load(os.path.join(base_dir, \u001b[33m'\u001b[39;49;00m\u001b[33meval_data.npy\u001b[39;49;00m\u001b[33m'\u001b[39;49;00m))\n",
      "    y_test = np.load(os.path.join(base_dir, \u001b[33m'\u001b[39;49;00m\u001b[33meval_labels.npy\u001b[39;49;00m\u001b[33m'\u001b[39;49;00m))\n",
      "    \u001b[34mreturn\u001b[39;49;00m x_test, y_test\n",
      "\n",
      "\n",
      "\u001b[34mdef\u001b[39;49;00m \u001b[32m_parse_args\u001b[39;49;00m():\n",
      "    parser = argparse.ArgumentParser()\n",
      "\n",
      "    \u001b[37m# Data, model, and output directories\u001b[39;49;00m\n",
      "    \u001b[37m# model_dir is always passed in from SageMaker. By default this is a S3 path under the default bucket.\u001b[39;49;00m\n",
      "    parser.add_argument(\u001b[33m'\u001b[39;49;00m\u001b[33m--model_dir\u001b[39;49;00m\u001b[33m'\u001b[39;49;00m, \u001b[36mtype\u001b[39;49;00m=\u001b[36mstr\u001b[39;49;00m)\n",
      "    parser.add_argument(\u001b[33m'\u001b[39;49;00m\u001b[33m--sm-model-dir\u001b[39;49;00m\u001b[33m'\u001b[39;49;00m, \u001b[36mtype\u001b[39;49;00m=\u001b[36mstr\u001b[39;49;00m, default=os.environ.get(\u001b[33m'\u001b[39;49;00m\u001b[33mSM_MODEL_DIR\u001b[39;49;00m\u001b[33m'\u001b[39;49;00m))\n",
      "    parser.add_argument(\u001b[33m'\u001b[39;49;00m\u001b[33m--train\u001b[39;49;00m\u001b[33m'\u001b[39;49;00m, \u001b[36mtype\u001b[39;49;00m=\u001b[36mstr\u001b[39;49;00m, default=os.environ.get(\u001b[33m'\u001b[39;49;00m\u001b[33mSM_CHANNEL_TRAINING\u001b[39;49;00m\u001b[33m'\u001b[39;49;00m))\n",
      "    parser.add_argument(\u001b[33m'\u001b[39;49;00m\u001b[33m--hosts\u001b[39;49;00m\u001b[33m'\u001b[39;49;00m, \u001b[36mtype\u001b[39;49;00m=\u001b[36mlist\u001b[39;49;00m, default=json.loads(os.environ.get(\u001b[33m'\u001b[39;49;00m\u001b[33mSM_HOSTS\u001b[39;49;00m\u001b[33m'\u001b[39;49;00m)))\n",
      "    parser.add_argument(\u001b[33m'\u001b[39;49;00m\u001b[33m--current-host\u001b[39;49;00m\u001b[33m'\u001b[39;49;00m, \u001b[36mtype\u001b[39;49;00m=\u001b[36mstr\u001b[39;49;00m, default=os.environ.get(\u001b[33m'\u001b[39;49;00m\u001b[33mSM_CURRENT_HOST\u001b[39;49;00m\u001b[33m'\u001b[39;49;00m))\n",
      "\n",
      "    \u001b[34mreturn\u001b[39;49;00m parser.parse_known_args()\n",
      "\n",
      "\n",
      "\u001b[34mif\u001b[39;49;00m \u001b[31m__name__\u001b[39;49;00m == \u001b[33m\"\u001b[39;49;00m\u001b[33m__main__\u001b[39;49;00m\u001b[33m\"\u001b[39;49;00m:\n",
      "    args, unknown = _parse_args()\n",
      "\n",
      "    train_data, train_labels = _load_training_data(args.train)\n",
      "    eval_data, eval_labels = _load_testing_data(args.train)\n",
      "\n",
      "    mnist_classifier = model(train_data, train_labels, eval_data, eval_labels)\n",
      "\n",
      "    \u001b[34mif\u001b[39;49;00m args.current_host == args.hosts[\u001b[34m0\u001b[39;49;00m]:\n",
      "        \u001b[37m# save model to an S3 directory with version number '00000001'\u001b[39;49;00m\n",
      "        mnist_classifier.save(os.path.join(args.sm_model_dir, \u001b[33m'\u001b[39;49;00m\u001b[33m000000001\u001b[39;49;00m\u001b[33m'\u001b[39;49;00m), \u001b[33m'\u001b[39;49;00m\u001b[33mmy_model.h5\u001b[39;49;00m\u001b[33m'\u001b[39;49;00m)\n"
     ]
    }
   ],
   "source": [
    "#!pygmentize '../scripts/tf/tensorflow_mnist.py'"
   ]
  },
  {
   "cell_type": "code",
   "execution_count": 32,
   "metadata": {},
   "outputs": [],
   "source": [
    "# Create the Experiment\n",
    "experiment_name = f\"tf-mnist-{datetime.datetime.now().strftime('%Y%m%d%H%M')}\"\n",
    "description = \"Classification of mnist hand-written digits using tensorflow 2\"\n",
    "\n",
    "tf_experiment = Experiment.create(experiment_name=experiment_name, \n",
    "                                  description=description, \n",
    "                                  sagemaker_boto_client=sagemaker_client)"
   ]
  },
  {
   "cell_type": "code",
   "execution_count": 36,
   "metadata": {},
   "outputs": [],
   "source": [
    "# Create the Trial\n",
    "trial_name = f\"tf-trial-{datetime.datetime.now().strftime('%Y%m%d%H%M')}\"\n",
    "\n",
    "tf_trial = Trial.create(trial_name=trial_name, \n",
    "                        experiment_name=tf_experiment.experiment_name,\n",
    "                        sagemaker_boto_client=sagemaker_client)"
   ]
  },
  {
   "cell_type": "markdown",
   "metadata": {},
   "source": [
    "### Note: \n",
    "\n",
    "The following training job uses an **ml.p2.xlarge** instance. The **ml.p2.xlarge** has a GPU (specifically, it has a single Tesla K80 GPU which you can see on the [Amazon SageMaker ML Instance Types](https://aws.amazon.com/sagemaker/pricing/instance-types/) page). The default AWS quota value for these instances is 0. To increase this, you need to ask for a quota increase. Here are the directions:\n",
    "\n",
    "1. Open the [Service Quotas console](https://console.aws.amazon.com/servicequotas/).\n",
    "2. In the navigation pane, choose **AWS services**.\n",
    "3. Search for and select **Amazon Elastic Compute Cloud (Amazon EC2)** in the list of services.\n",
    "4. Search for service quota **Running Dedicated p2 Hosts**.\n",
    "5. Choose its radio button and then click **Request quota increase**.\n",
    "6. For Change quota value, enter 1 for the value and then click **Request**.\n",
    "7. To view any pending or recently resolved requests, choose **Dashboard** from the navigation pane. For pending requests, choose the status of the request to open the request receipt. The initial status of a request is **Pending**. After the status changes to **Quota requested**, you'll see the case number with AWS Support. Choose the case number to open the ticket for your request.\n",
    "8. It can take up to 48 hours for this change to take effect, but it's usually much faster than this. For example, it took about 15 minutes for my request to get handled."
   ]
  },
  {
   "cell_type": "code",
   "execution_count": 46,
   "metadata": {},
   "outputs": [],
   "source": [
    "from sagemaker.tensorflow import TensorFlow\n",
    "\n",
    "tf_estimator = TensorFlow(\n",
    "    entry_point='../scripts/tf/tensorflow_mnist.py',\n",
    "    role=role,\n",
    "    instance_count=1,\n",
    "    instance_type='ml.p2.xlarge',\n",
    "    code_location=f\"s3://{BUCKET}/{PREFIX}\",\n",
    "    output_path=f\"s3://{BUCKET}/{PREFIX}\",\n",
    "    base_job_name='tf-mnist',\n",
    "    py_version='py3',\n",
    "    framework_version='2.1.0',\n",
    "    enable_sagemaker_metrics=True)"
   ]
  },
  {
   "cell_type": "markdown",
   "metadata": {},
   "source": [
    "**Note: The next cell takes 3-5 minutes to return.**"
   ]
  },
  {
   "cell_type": "code",
   "execution_count": null,
   "metadata": {},
   "outputs": [],
   "source": [
    "experiment_config = {\n",
    "        \"TrialName\": tf_trial.trial_name,\n",
    "        \"TrialComponentDisplayName\": \"Training\",\n",
    "    }\n",
    "\n",
    "# Now associate the estimator with the Experiment and Trial\n",
    "tf_estimator.fit(inputs={'training': training_data_uri},\n",
    "                 experiment_config=experiment_config)"
   ]
  },
  {
   "cell_type": "markdown",
   "metadata": {},
   "source": [
    "### 4.1.3 SageMaker Studio Walk-thru\n",
    "---\n",
    "\n",
    "At this point you can view the `Experiment` metadata by clicking on the beaker icon in the vertical navigation bar on the left-side of your screen."
   ]
  },
  {
   "cell_type": "markdown",
   "metadata": {},
   "source": [
    "## 4.2 Tracking Distributed Hyperparameter Search with Multiple Trials\n",
    "---"
   ]
  },
  {
   "cell_type": "code",
   "execution_count": 49,
   "metadata": {},
   "outputs": [],
   "source": [
    "from matplotlib import pyplot as plt\n",
    "import pandas as pd\n",
    "from torchvision import datasets, transforms\n",
    "\n",
    "#%config InlineBackend.figure_format = 'retina'"
   ]
  },
  {
   "cell_type": "code",
   "execution_count": 51,
   "metadata": {},
   "outputs": [
    {
     "name": "stdout",
     "output_type": "stream",
     "text": [
      "Downloading http://yann.lecun.com/exdb/mnist/train-images-idx3-ubyte.gz to ../data/mnist/MNIST/raw/train-images-idx3-ubyte.gz\n"
     ]
    },
    {
     "data": {
      "application/vnd.jupyter.widget-view+json": {
       "model_id": "1930681e834c43e0906bb32f6b937f12",
       "version_major": 2,
       "version_minor": 0
      },
      "text/plain": [
       "HBox(children=(FloatProgress(value=1.0, bar_style='info', max=1.0), HTML(value='')))"
      ]
     },
     "metadata": {},
     "output_type": "display_data"
    },
    {
     "name": "stdout",
     "output_type": "stream",
     "text": [
      "Extracting ../data/mnist/MNIST/raw/train-images-idx3-ubyte.gz to ../data/mnist/MNIST/raw\n",
      "Downloading http://yann.lecun.com/exdb/mnist/train-labels-idx1-ubyte.gz to ../data/mnist/MNIST/raw/train-labels-idx1-ubyte.gz\n"
     ]
    },
    {
     "data": {
      "application/vnd.jupyter.widget-view+json": {
       "model_id": "16e831f2da124ceebb9d1cfefe24507d",
       "version_major": 2,
       "version_minor": 0
      },
      "text/plain": [
       "HBox(children=(FloatProgress(value=1.0, bar_style='info', max=1.0), HTML(value='')))"
      ]
     },
     "metadata": {},
     "output_type": "display_data"
    },
    {
     "name": "stdout",
     "output_type": "stream",
     "text": [
      "Extracting ../data/mnist/MNIST/raw/train-labels-idx1-ubyte.gz to ../data/mnist/MNIST/raw\n",
      "Downloading http://yann.lecun.com/exdb/mnist/t10k-images-idx3-ubyte.gz to ../data/mnist/MNIST/raw/t10k-images-idx3-ubyte.gz\n",
      "\n"
     ]
    },
    {
     "data": {
      "application/vnd.jupyter.widget-view+json": {
       "model_id": "e86096176a534827be9771917af4c3be",
       "version_major": 2,
       "version_minor": 0
      },
      "text/plain": [
       "HBox(children=(FloatProgress(value=1.0, bar_style='info', max=1.0), HTML(value='')))"
      ]
     },
     "metadata": {},
     "output_type": "display_data"
    },
    {
     "name": "stdout",
     "output_type": "stream",
     "text": [
      "Extracting ../data/mnist/MNIST/raw/t10k-images-idx3-ubyte.gz to ../data/mnist/MNIST/raw\n",
      "Downloading http://yann.lecun.com/exdb/mnist/t10k-labels-idx1-ubyte.gz to ../data/mnist/MNIST/raw/t10k-labels-idx1-ubyte.gz\n"
     ]
    },
    {
     "data": {
      "application/vnd.jupyter.widget-view+json": {
       "model_id": "c4e8c5d6390341b5bc6fb46b1a133aca",
       "version_major": 2,
       "version_minor": 0
      },
      "text/plain": [
       "HBox(children=(FloatProgress(value=1.0, bar_style='info', max=1.0), HTML(value='')))"
      ]
     },
     "metadata": {},
     "output_type": "display_data"
    },
    {
     "name": "stdout",
     "output_type": "stream",
     "text": [
      "Extracting ../data/mnist/MNIST/raw/t10k-labels-idx1-ubyte.gz to ../data/mnist/MNIST/raw\n",
      "Processing...\n"
     ]
    },
    {
     "name": "stderr",
     "output_type": "stream",
     "text": [
      "/pytorch/torch/csrc/utils/tensor_numpy.cpp:141: UserWarning: The given NumPy array is not writeable, and PyTorch does not support non-writeable tensors. This means you can write to the underlying (supposedly non-writeable) NumPy array using the tensor. You may want to copy the array to protect its data or make it writeable before converting it to a tensor. This type of warning will be suppressed for the rest of this program.\n"
     ]
    },
    {
     "name": "stdout",
     "output_type": "stream",
     "text": [
      "Done!\n"
     ]
    }
   ],
   "source": [
    "transform = transforms.Compose([transforms.ToTensor(),\n",
    "                                transforms.Normalize((0.1307,), (0.3081,))])\n",
    "\n",
    "# Download, load, and transform the data.\n",
    "train_set = datasets.MNIST(LOCAL_DATA_DIRECTORY, train=True, transform=transform, download=True)\n",
    "test_set = datasets.MNIST(LOCAL_DATA_DIRECTORY, train=False, transform=transform, download=True)"
   ]
  },
  {
   "cell_type": "code",
   "execution_count": 52,
   "metadata": {},
   "outputs": [
    {
     "name": "stdout",
     "output_type": "stream",
     "text": [
      "\n",
      "\n"
     ]
    },
    {
     "data": {
      "image/png": "[encoded data removed]",
      "text/plain": [
       "<Figure size 432x288 with 1 Axes>"
      ]
     },
     "metadata": {
      "image/png": {
       "height": 248,
       "width": 251
      },
      "needs_background": "light"
     },
     "output_type": "display_data"
    }
   ],
   "source": [
    "plt.imshow(train_set.data[2].numpy());"
   ]
  },
  {
   "cell_type": "code",
   "execution_count": 53,
   "metadata": {},
   "outputs": [],
   "source": [
    "inputs = sagemaker_session.upload_data(\n",
    "    path=LOCAL_DATA_DIRECTORY,\n",
    "    bucket=BUCKET,\n",
    "    key_prefix=PREFIX)"
   ]
  },
  {
   "cell_type": "code",
   "execution_count": 56,
   "metadata": {},
   "outputs": [],
   "source": [
    "from smexperiments.tracker import Tracker\n",
    "\n",
    "with Tracker.create(display_name=\"Preprocessing\", sagemaker_boto_client=sagemaker_client) as tracker:\n",
    "    tracker.log_parameters({\n",
    "        \"normalization_mean\": 0.1307,\n",
    "        \"normalization_std\": 0.3081,\n",
    "    })\n",
    "    \n",
    "    tracker.log_input(name=\"mnist-dataset\", media_type=\"s3/uri\", value=inputs)"
   ]
  },
  {
   "cell_type": "code",
   "execution_count": 58,
   "metadata": {},
   "outputs": [],
   "source": [
    "experiment_name = f\"torch-mnist-{datetime.datetime.now().strftime('%Y%m%d%H%M')}\"\n",
    "description = \"Classification of mnist hand-written digits with pytorch.\"\n",
    "\n",
    "mnist_experiment = Experiment.create(experiment_name=experiment_name,\n",
    "                                     description=description, \n",
    "                                     sagemaker_boto_client=sagemaker_client)"
   ]
  },
  {
   "cell_type": "markdown",
   "metadata": {},
   "source": [
    "**Note: This takes ~15 minutes to return.**"
   ]
  },
  {
   "cell_type": "code",
   "execution_count": null,
   "metadata": {},
   "outputs": [],
   "source": [
    "from sagemaker.pytorch import PyTorch\n",
    "\n",
    "hidden_channel_trial_name_map = {} # Keep references to each Trial object\n",
    "\n",
    "# If you want to run the following training jobs asynchronously, you may need to increase\n",
    "# your resource limit. Otherwise, you can run them sequentially.\n",
    "for i, num_hidden_channel in enumerate([2, 5, 10]):\n",
    "    \n",
    "    # create Trial object\n",
    "    trial_name = f\"torch-{num_hidden_channel}-hidden-channels-{datetime.datetime.now().strftime('%Y%m%d%H%M')}\"\n",
    "    cnn_trial = Trial.create(\n",
    "        trial_name=trial_name, \n",
    "        experiment_name=mnist_experiment.experiment_name,\n",
    "        sagemaker_boto_client=sagemaker_client,\n",
    "    )\n",
    "    hidden_channel_trial_name_map[num_hidden_channel] = trial_name\n",
    "    \n",
    "    # Associate the proprocessing trial component with the current trial\n",
    "    cnn_trial.add_trial_component(tracker.trial_component)\n",
    "    \n",
    "    # all input configurations, parameters, and metrics specified in estimator \n",
    "    # definition are automatically tracked\n",
    "    estimator = PyTorch(\n",
    "        py_version='py3',\n",
    "        entry_point='../scripts/torch/pytorch_mnist.py',\n",
    "        role=role,\n",
    "        sagemaker_session=sagemaker_session,\n",
    "        framework_version='1.1.0',\n",
    "        instance_count=1,\n",
    "        instance_type='ml.c4.xlarge',\n",
    "        code_location=f\"s3://{BUCKET}/{PREFIX}\",\n",
    "        output_path=f\"s3://{BUCKET}/{PREFIX}\",\n",
    "        base_job_name='torch-mnist',\n",
    "        hyperparameters={\n",
    "            'epochs': 2,\n",
    "            'backend': 'gloo',\n",
    "            'hidden_channels': num_hidden_channel,\n",
    "            'dropout': 0.2,\n",
    "            'optimizer': 'sgd'\n",
    "        },\n",
    "        metric_definitions=[\n",
    "            {'Name':'train:loss', 'Regex':'Train Loss: (.*?);'},\n",
    "            {'Name':'test:loss', 'Regex':'Test Average loss: (.*?),'},\n",
    "            {'Name':'test:accuracy', 'Regex':'Test Accuracy: (.*?)%;'}\n",
    "        ], enable_sagemaker_metrics=True,\n",
    "    )\n",
    "    \n",
    "    # Now associate the estimator with the Experiment and Trial\n",
    "    estimator.fit(\n",
    "        inputs={'training': inputs}, \n",
    "        experiment_config={\n",
    "            \"TrialName\": cnn_trial.trial_name,\n",
    "            \"TrialComponentDisplayName\": \"Training\",\n",
    "        },\n",
    "        wait=True,\n",
    "    )\n",
    "    \n",
    "    # give it a while before dispatching the next training job\n",
    "    time.sleep(2)"
   ]
  },
  {
   "cell_type": "markdown",
   "metadata": {},
   "source": [
    "### 4.2.3 SageMaker Studio Walk-thru\n",
    "---\n",
    "\n",
    "At this point you can view the `Experiment` metadata by clicking on the beaker icon in the vertical navigation bar on the left-side of your screen."
   ]
  },
  {
   "cell_type": "markdown",
   "metadata": {},
   "source": [
    "## 4.3 Analyzing Experiment Results\n",
    "---"
   ]
  },
  {
   "cell_type": "code",
   "execution_count": 62,
   "metadata": {},
   "outputs": [],
   "source": [
    "from sagemaker.analytics import ExperimentAnalytics\n",
    "\n",
    "search_expression = {\n",
    "    \"Filters\":[\n",
    "        {\n",
    "            \"Name\": \"DisplayName\",\n",
    "            \"Operator\": \"Equals\",\n",
    "            \"Value\": \"Training\",\n",
    "        }\n",
    "    ],\n",
    "}\n",
    "\n",
    "trial_component_analytics = ExperimentAnalytics(\n",
    "    sagemaker_session=sagemaker_session, \n",
    "    experiment_name=mnist_experiment.experiment_name,\n",
    "    search_expression=search_expression,\n",
    "    sort_by=\"metrics.test:accuracy.max\",\n",
    "    sort_order=\"Descending\",\n",
    "    metric_names=['test:accuracy'],\n",
    "    parameter_names=['hidden_channels', 'epochs', 'dropout', 'optimizer']\n",
    ")"
   ]
  },
  {
   "cell_type": "code",
   "execution_count": 63,
   "metadata": {},
   "outputs": [
    {
     "data": {
      "text/html": [
       "<div>\n",
       "<style scoped>\n",
       "    .dataframe tbody tr th:only-of-type {\n",
       "        vertical-align: middle;\n",
       "    }\n",
       "\n",
       "    .dataframe tbody tr th {\n",
       "        vertical-align: top;\n",
       "    }\n",
       "\n",
       "    .dataframe thead th {\n",
       "        text-align: right;\n",
       "    }\n",
       "</style>\n",
       "<table border=\"1\" class=\"dataframe\">\n",
       "  <thead>\n",
       "    <tr style=\"text-align: right;\">\n",
       "      <th></th>\n",
       "      <th>TrialComponentName</th>\n",
       "      <th>DisplayName</th>\n",
       "      <th>SourceArn</th>\n",
       "      <th>dropout</th>\n",
       "      <th>epochs</th>\n",
       "      <th>hidden_channels</th>\n",
       "      <th>optimizer</th>\n",
       "      <th>test:accuracy - Min</th>\n",
       "      <th>test:accuracy - Max</th>\n",
       "      <th>test:accuracy - Avg</th>\n",
       "      <th>test:accuracy - StdDev</th>\n",
       "      <th>test:accuracy - Last</th>\n",
       "      <th>test:accuracy - Count</th>\n",
       "    </tr>\n",
       "  </thead>\n",
       "  <tbody>\n",
       "    <tr>\n",
       "      <th>0</th>\n",
       "      <td>torch-mnist-2020-05-18-15-42-42-697-aws-traini...</td>\n",
       "      <td>Training</td>\n",
       "      <td>arn:aws:sagemaker:us-east-2:209970524256:train...</td>\n",
       "      <td>0.2</td>\n",
       "      <td>2.0</td>\n",
       "      <td>10.0</td>\n",
       "      <td>\"sgd\"</td>\n",
       "      <td>95.0</td>\n",
       "      <td>97.0</td>\n",
       "      <td>96.0</td>\n",
       "      <td>1.414214</td>\n",
       "      <td>97.0</td>\n",
       "      <td>2</td>\n",
       "    </tr>\n",
       "    <tr>\n",
       "      <th>1</th>\n",
       "      <td>torch-mnist-2020-05-18-15-35-12-714-aws-traini...</td>\n",
       "      <td>Training</td>\n",
       "      <td>arn:aws:sagemaker:us-east-2:209970524256:train...</td>\n",
       "      <td>0.2</td>\n",
       "      <td>2.0</td>\n",
       "      <td>2.0</td>\n",
       "      <td>\"sgd\"</td>\n",
       "      <td>95.0</td>\n",
       "      <td>97.0</td>\n",
       "      <td>96.0</td>\n",
       "      <td>1.414214</td>\n",
       "      <td>97.0</td>\n",
       "      <td>2</td>\n",
       "    </tr>\n",
       "    <tr>\n",
       "      <th>2</th>\n",
       "      <td>torch-mnist-2020-05-18-15-38-57-675-aws-traini...</td>\n",
       "      <td>Training</td>\n",
       "      <td>arn:aws:sagemaker:us-east-2:209970524256:train...</td>\n",
       "      <td>0.2</td>\n",
       "      <td>2.0</td>\n",
       "      <td>5.0</td>\n",
       "      <td>\"sgd\"</td>\n",
       "      <td>94.0</td>\n",
       "      <td>96.0</td>\n",
       "      <td>95.0</td>\n",
       "      <td>1.414214</td>\n",
       "      <td>96.0</td>\n",
       "      <td>2</td>\n",
       "    </tr>\n",
       "  </tbody>\n",
       "</table>\n",
       "</div>"
      ],
      "text/plain": [
       "                                  TrialComponentName DisplayName  \\\n",
       "0  torch-mnist-2020-05-18-15-42-42-697-aws-traini...    Training   \n",
       "1  torch-mnist-2020-05-18-15-35-12-714-aws-traini...    Training   \n",
       "2  torch-mnist-2020-05-18-15-38-57-675-aws-traini...    Training   \n",
       "\n",
       "                                           SourceArn  dropout  epochs  \\\n",
       "0  arn:aws:sagemaker:us-east-2:209970524256:train...      0.2     2.0   \n",
       "1  arn:aws:sagemaker:us-east-2:209970524256:train...      0.2     2.0   \n",
       "2  arn:aws:sagemaker:us-east-2:209970524256:train...      0.2     2.0   \n",
       "\n",
       "   hidden_channels optimizer  test:accuracy - Min  test:accuracy - Max  \\\n",
       "0             10.0     \"sgd\"                 95.0                 97.0   \n",
       "1              2.0     \"sgd\"                 95.0                 97.0   \n",
       "2              5.0     \"sgd\"                 94.0                 96.0   \n",
       "\n",
       "   test:accuracy - Avg  test:accuracy - StdDev  test:accuracy - Last  \\\n",
       "0                 96.0                1.414214                  97.0   \n",
       "1                 96.0                1.414214                  97.0   \n",
       "2                 95.0                1.414214                  96.0   \n",
       "\n",
       "   test:accuracy - Count  \n",
       "0                      2  \n",
       "1                      2  \n",
       "2                      2  "
      ]
     },
     "execution_count": 63,
     "metadata": {},
     "output_type": "execute_result"
    }
   ],
   "source": [
    "trial_component_analytics.dataframe()"
   ]
  },
  {
   "cell_type": "code",
   "execution_count": 64,
   "metadata": {},
   "outputs": [],
   "source": [
    "lineage_table = ExperimentAnalytics(\n",
    "    sagemaker_session=sagemaker_session, \n",
    "    search_expression={\n",
    "        \"Filters\":[{\n",
    "            \"Name\": \"Parents.TrialName\",\n",
    "            \"Operator\": \"Equals\",\n",
    "            \"Value\": hidden_channel_trial_name_map[2]\n",
    "        }]\n",
    "    },\n",
    "    sort_by=\"CreationTime\",\n",
    "    sort_order=\"Ascending\",\n",
    ")"
   ]
  },
  {
   "cell_type": "code",
   "execution_count": 65,
   "metadata": {},
   "outputs": [
    {
     "data": {
      "text/html": [
       "<div>\n",
       "<style scoped>\n",
       "    .dataframe tbody tr th:only-of-type {\n",
       "        vertical-align: middle;\n",
       "    }\n",
       "\n",
       "    .dataframe tbody tr th {\n",
       "        vertical-align: top;\n",
       "    }\n",
       "\n",
       "    .dataframe thead th {\n",
       "        text-align: right;\n",
       "    }\n",
       "</style>\n",
       "<table border=\"1\" class=\"dataframe\">\n",
       "  <thead>\n",
       "    <tr style=\"text-align: right;\">\n",
       "      <th></th>\n",
       "      <th>TrialComponentName</th>\n",
       "      <th>DisplayName</th>\n",
       "      <th>normalization_mean</th>\n",
       "      <th>normalization_std</th>\n",
       "      <th>SourceArn</th>\n",
       "      <th>SageMaker.ImageUri</th>\n",
       "      <th>SageMaker.InstanceCount</th>\n",
       "      <th>SageMaker.InstanceType</th>\n",
       "      <th>SageMaker.VolumeSizeInGB</th>\n",
       "      <th>backend</th>\n",
       "      <th>...</th>\n",
       "      <th>test:accuracy - Avg</th>\n",
       "      <th>test:accuracy - StdDev</th>\n",
       "      <th>test:accuracy - Last</th>\n",
       "      <th>test:accuracy - Count</th>\n",
       "      <th>train:loss - Min</th>\n",
       "      <th>train:loss - Max</th>\n",
       "      <th>train:loss - Avg</th>\n",
       "      <th>train:loss - StdDev</th>\n",
       "      <th>train:loss - Last</th>\n",
       "      <th>train:loss - Count</th>\n",
       "    </tr>\n",
       "  </thead>\n",
       "  <tbody>\n",
       "    <tr>\n",
       "      <th>0</th>\n",
       "      <td>TrialComponent-2020-05-18-152230-dmwv</td>\n",
       "      <td>Preprocessing</td>\n",
       "      <td>0.1307</td>\n",
       "      <td>0.3081</td>\n",
       "      <td>NaN</td>\n",
       "      <td>NaN</td>\n",
       "      <td>NaN</td>\n",
       "      <td>NaN</td>\n",
       "      <td>NaN</td>\n",
       "      <td>NaN</td>\n",
       "      <td>...</td>\n",
       "      <td>NaN</td>\n",
       "      <td>NaN</td>\n",
       "      <td>NaN</td>\n",
       "      <td>NaN</td>\n",
       "      <td>NaN</td>\n",
       "      <td>NaN</td>\n",
       "      <td>NaN</td>\n",
       "      <td>NaN</td>\n",
       "      <td>NaN</td>\n",
       "      <td>NaN</td>\n",
       "    </tr>\n",
       "    <tr>\n",
       "      <th>1</th>\n",
       "      <td>torch-mnist-2020-05-18-15-35-12-714-aws-traini...</td>\n",
       "      <td>Training</td>\n",
       "      <td>NaN</td>\n",
       "      <td>NaN</td>\n",
       "      <td>arn:aws:sagemaker:us-east-2:209970524256:train...</td>\n",
       "      <td>520713654638.dkr.ecr.us-east-2.amazonaws.com/s...</td>\n",
       "      <td>1.0</td>\n",
       "      <td>ml.c4.xlarge</td>\n",
       "      <td>30.0</td>\n",
       "      <td>\"gloo\"</td>\n",
       "      <td>...</td>\n",
       "      <td>96.0</td>\n",
       "      <td>1.414214</td>\n",
       "      <td>97.0</td>\n",
       "      <td>2.0</td>\n",
       "      <td>0.157259</td>\n",
       "      <td>1.617049</td>\n",
       "      <td>0.456703</td>\n",
       "      <td>0.352488</td>\n",
       "      <td>0.157259</td>\n",
       "      <td>18.0</td>\n",
       "    </tr>\n",
       "  </tbody>\n",
       "</table>\n",
       "<p>2 rows \u00d7 38 columns</p>\n",
       "</div>"
      ],
      "text/plain": [
       "                                  TrialComponentName    DisplayName  \\\n",
       "0              TrialComponent-2020-05-18-152230-dmwv  Preprocessing   \n",
       "1  torch-mnist-2020-05-18-15-35-12-714-aws-traini...       Training   \n",
       "\n",
       "   normalization_mean  normalization_std  \\\n",
       "0              0.1307             0.3081   \n",
       "1                 NaN                NaN   \n",
       "\n",
       "                                           SourceArn  \\\n",
       "0                                                NaN   \n",
       "1  arn:aws:sagemaker:us-east-2:209970524256:train...   \n",
       "\n",
       "                                  SageMaker.ImageUri  SageMaker.InstanceCount  \\\n",
       "0                                                NaN                      NaN   \n",
       "1  520713654638.dkr.ecr.us-east-2.amazonaws.com/s...                      1.0   \n",
       "\n",
       "  SageMaker.InstanceType  SageMaker.VolumeSizeInGB backend  ...  \\\n",
       "0                    NaN                       NaN     NaN  ...   \n",
       "1           ml.c4.xlarge                      30.0  \"gloo\"  ...   \n",
       "\n",
       "   test:accuracy - Avg  test:accuracy - StdDev  test:accuracy - Last  \\\n",
       "0                  NaN                     NaN                   NaN   \n",
       "1                 96.0                1.414214                  97.0   \n",
       "\n",
       "  test:accuracy - Count  train:loss - Min train:loss - Max train:loss - Avg  \\\n",
       "0                   NaN               NaN              NaN              NaN   \n",
       "1                   2.0          0.157259         1.617049         0.456703   \n",
       "\n",
       "  train:loss - StdDev train:loss - Last train:loss - Count  \n",
       "0                 NaN               NaN                NaN  \n",
       "1            0.352488          0.157259               18.0  \n",
       "\n",
       "[2 rows x 38 columns]"
      ]
     },
     "execution_count": 65,
     "metadata": {},
     "output_type": "execute_result"
    }
   ],
   "source": [
    "lineage_table.dataframe()"
   ]
  }
 ],
 "metadata": {
  "instance_type": "ml.t3.medium",
  "kernelspec": {
   "display_name": "Python 3 (Data Science)",
   "language": "python",
   "name": "python3__SAGEMAKER_INTERNAL__arn:aws:sagemaker:us-east-2:429704687514:image/datascience-1.0"
  },
  "language_info": {
   "codemirror_mode": {
    "name": "ipython",
    "version": 3
   },
   "file_extension": ".py",
   "mimetype": "text/x-python",
   "name": "python",
   "nbconvert_exporter": "python",
   "pygments_lexer": "ipython3",
   "version": "3.7.6"
  }
 },
 "nbformat": 4,
 "nbformat_minor": 4
}
